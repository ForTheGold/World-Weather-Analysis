{
 "cells": [
  {
   "cell_type": "code",
   "execution_count": 8,
   "metadata": {},
   "outputs": [],
   "source": [
    "from citipy import citipy\n",
    "import numpy as np\n",
    "import requests\n",
    "from config import weather_api_key"
   ]
  },
  {
   "cell_type": "code",
   "execution_count": 9,
   "metadata": {},
   "outputs": [],
   "source": [
    "lats = np.random.uniform(-90, 90, size=5)\n",
    "lngs = np.random.uniform(-180, 180, size=5)\n",
    "lats_lngs = zip(lats, lngs)"
   ]
  },
  {
   "cell_type": "code",
   "execution_count": 10,
   "metadata": {},
   "outputs": [
    {
     "name": "stdout",
     "output_type": "stream",
     "text": [
      "katherine au\n",
      "aleksandrovsk ru\n",
      "mocuba mz\n",
      "dumas us\n",
      "busselton au\n"
     ]
    }
   ],
   "source": [
    "for i in lats_lngs:\n",
    "    print(citipy.nearest_city(i[0], i[1]).city_name,\n",
    "         citipy.nearest_city(i[0], i[1]).country_code)"
   ]
  },
  {
   "cell_type": "code",
   "execution_count": 21,
   "metadata": {},
   "outputs": [
    {
     "name": "stdout",
     "output_type": "stream",
     "text": [
      "Response Received!\n"
     ]
    }
   ],
   "source": [
    "url = \"http://api.openweathermap.org/data/2.5/weather?units=Imperial&APPID=\"\n",
    "city = \"Boston\"\n",
    "city_url = url + weather_api_key + \"&q=\" + city\n",
    "city_weather = requests.get(city_url)\n",
    "if city_weather.status_code == 200:\n",
    "    print(\"Response Received!\")\n",
    "else:\n",
    "    print(\"No Response Received\")"
   ]
  },
  {
   "cell_type": "code",
   "execution_count": 22,
   "metadata": {},
   "outputs": [
    {
     "data": {
      "text/plain": [
       "{'coord': {'lon': -71.0598, 'lat': 42.3584},\n",
       " 'weather': [{'id': 803,\n",
       "   'main': 'Clouds',\n",
       "   'description': 'broken clouds',\n",
       "   'icon': '04n'}],\n",
       " 'base': 'stations',\n",
       " 'main': {'temp': 37.2,\n",
       "  'feels_like': 25.57,\n",
       "  'temp_min': 35.01,\n",
       "  'temp_max': 39,\n",
       "  'pressure': 1002,\n",
       "  'humidity': 75},\n",
       " 'visibility': 10000,\n",
       " 'wind': {'speed': 13.8, 'deg': 260},\n",
       " 'clouds': {'all': 75},\n",
       " 'dt': 1614129550,\n",
       " 'sys': {'type': 1,\n",
       "  'id': 3486,\n",
       "  'country': 'US',\n",
       "  'sunrise': 1614079735,\n",
       "  'sunset': 1614119193},\n",
       " 'timezone': -18000,\n",
       " 'id': 4930956,\n",
       " 'name': 'Boston',\n",
       " 'cod': 200}"
      ]
     },
     "execution_count": 22,
     "metadata": {},
     "output_type": "execute_result"
    }
   ],
   "source": [
    "city_weather.json()"
   ]
  }
 ],
 "metadata": {
  "kernelspec": {
   "display_name": "Python 3",
   "language": "python",
   "name": "python3"
  },
  "language_info": {
   "codemirror_mode": {
    "name": "ipython",
    "version": 3
   },
   "file_extension": ".py",
   "mimetype": "text/x-python",
   "name": "python",
   "nbconvert_exporter": "python",
   "pygments_lexer": "ipython3",
   "version": "3.7.9"
  }
 },
 "nbformat": 4,
 "nbformat_minor": 4
}
