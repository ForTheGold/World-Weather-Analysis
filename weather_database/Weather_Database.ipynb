{
 "cells": [
  {
   "cell_type": "code",
   "execution_count": 12,
   "metadata": {},
   "outputs": [],
   "source": [
    "# config import weather_api_key, g_key\n",
    "import pandas as pd\n",
    "import matplotlib.pyplot as plt\n",
    "import numpy as np\n",
    "from citipy import citipy\n",
    "import requests\n",
    "from datetime import datetime\n",
    "import time\n",
    "from scipy.stats import linregress\n",
    "import gmaps"
   ]
  },
  {
   "cell_type": "code",
   "execution_count": 13,
   "metadata": {},
   "outputs": [],
   "source": [
    "lats = np.random.uniform(-90, 90, size=2000)\n",
    "lngs = np.random.uniform(-180, 180, size=2000)\n",
    "\n",
    "coordinates = zip(lats, lngs)\n",
    "cities = []\n",
    "\n",
    "\n",
    "for coordinate in coordinates:\n",
    "    city = citipy.nearest_city(coordinate[0], coordinate[1]).city_name\n",
    "    if city not in cities:\n",
    "        cities.append(city)"
   ]
  },
  {
   "cell_type": "code",
   "execution_count": 14,
   "metadata": {},
   "outputs": [
    {
     "name": "stdout",
     "output_type": "stream",
     "text": [
      "Beginning Data Retrieval     \n",
      "-----------------------------\n"
     ]
    },
    {
     "ename": "NameError",
     "evalue": "name 'weather_api_key' is not defined",
     "output_type": "error",
     "traceback": [
      "\u001b[1;31m---------------------------------------------------------------------------\u001b[0m",
      "\u001b[1;31mNameError\u001b[0m                                 Traceback (most recent call last)",
      "\u001b[1;32m<ipython-input-14-27eb7d4460f9>\u001b[0m in \u001b[0;36m<module>\u001b[1;34m\u001b[0m\n\u001b[0;32m     14\u001b[0m \u001b[1;33m\u001b[0m\u001b[0m\n\u001b[0;32m     15\u001b[0m \u001b[1;33m\u001b[0m\u001b[0m\n\u001b[1;32m---> 16\u001b[1;33m     \u001b[0mcity_url\u001b[0m \u001b[1;33m=\u001b[0m \u001b[0murl\u001b[0m \u001b[1;33m+\u001b[0m \u001b[0mweather_api_key\u001b[0m \u001b[1;33m+\u001b[0m \u001b[1;34m\"&q=\"\u001b[0m \u001b[1;33m+\u001b[0m \u001b[0mcity\u001b[0m\u001b[1;33m.\u001b[0m\u001b[0mreplace\u001b[0m\u001b[1;33m(\u001b[0m\u001b[1;34m\" \"\u001b[0m\u001b[1;33m,\u001b[0m \u001b[1;34m\"+\"\u001b[0m\u001b[1;33m)\u001b[0m\u001b[1;33m\u001b[0m\u001b[1;33m\u001b[0m\u001b[0m\n\u001b[0m\u001b[0;32m     17\u001b[0m \u001b[1;33m\u001b[0m\u001b[0m\n\u001b[0;32m     18\u001b[0m     \u001b[1;32mtry\u001b[0m\u001b[1;33m:\u001b[0m\u001b[1;33m\u001b[0m\u001b[1;33m\u001b[0m\u001b[0m\n",
      "\u001b[1;31mNameError\u001b[0m: name 'weather_api_key' is not defined"
     ]
    }
   ],
   "source": [
    "url = \"http://api.openweathermap.org/data/2.5/weather?units=Imperial&APPID=\"\n",
    "city_data = []\n",
    "\n",
    "# print(\"Beginning Data Retrieval     \")\n",
    "# print(\"-----------------------------\")\n",
    "\n",
    "# record_count = 1\n",
    "# set_count = 1\n",
    "\n",
    "# for i, city in enumerate(cities):\n",
    "#     if (i % 50 == 0 and i >= 50):\n",
    "#         set_count += 1\n",
    "#         record_count = 1\n",
    "        \n",
    "    \n",
    "#     city_url = url + weather_api_key + \"&q=\" + city.replace(\" \", \"+\")\n",
    "    \n",
    "#     try:\n",
    "#         city_weather = requests.get(city_url).json()\n",
    "        \n",
    "#         city_lat = city_weather[\"coord\"][\"lat\"]\n",
    "#         city_lng = city_weather[\"coord\"][\"lon\"]\n",
    "#         city_max_temp = city_weather[\"main\"][\"temp_max\"]\n",
    "#         city_humidity = city_weather[\"main\"][\"humidity\"]\n",
    "#         city_clouds = city_weather[\"clouds\"][\"all\"]\n",
    "#         city_wind = city_weather[\"wind\"][\"speed\"]\n",
    "#         city_country = city_weather[\"sys\"][\"country\"]\n",
    "#         city_date = datetime.utcfromtimestamp(city_weather[\"dt\"]).strftime(\"%Y-%m-%d %H:%M:%S\")\n",
    "        \n",
    "#         city_data.append({\n",
    "#                           \"City\": city.title(),\n",
    "#                           \"Lat\": city_lat,\n",
    "#                           \"Lng\": city_lng,\n",
    "#                           \"Max Temp\": city_max_temp,\n",
    "#                           \"Humidity\": city_humidity,\n",
    "#                           \"Cloudiness\": city_clouds,\n",
    "#                           \"Wind Speed\": city_wind,\n",
    "#                           \"Country\": city_country,\n",
    "#                           \"Date\": city_date\n",
    "#                         })\n",
    "        \n",
    "#     except KeyError:\n",
    "#         print(\"City not found. Skipping...\")\n",
    "#         continue\n",
    "        \n",
    "#     print(f\"Processing record count {record_count} of set {set_count} | {city}\")\n",
    "#     record_count += 1\n",
    "# print(\"-----------------------------\")\n",
    "# print(\"Data Retrieval Complete      \")\n",
    "# print(\"-----------------------------\")\n"
   ]
  }
 ],
 "metadata": {
  "kernelspec": {
   "display_name": "Python 3",
   "language": "python",
   "name": "python3"
  },
  "language_info": {
   "codemirror_mode": {
    "name": "ipython",
    "version": 3
   },
   "file_extension": ".py",
   "mimetype": "text/x-python",
   "name": "python",
   "nbconvert_exporter": "python",
   "pygments_lexer": "ipython3",
   "version": "3.7.9"
  }
 },
 "nbformat": 4,
 "nbformat_minor": 4
}
